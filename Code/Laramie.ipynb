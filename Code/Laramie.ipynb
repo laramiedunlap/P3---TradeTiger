{
 "cells": [
  {
   "cell_type": "code",
   "execution_count": 1,
   "metadata": {},
   "outputs": [],
   "source": [
    "# pip install tda-api\n",
    "\n",
    "# from tda import auth, client\n",
    "# import json\n",
    "\n",
    "# import config_tda\n",
    "# from tda import auth, client\n",
    "# import json\n",
    "\n",
    "\n",
    "# try:\n",
    "#     c = auth.client_from_token_file(config_tda.token_path, config_tda.api_key)\n",
    "# except FileNotFoundError:\n",
    "#     from selenium import webdriver\n",
    "#     with webdriver.Chrome() as driver:\n",
    "#         c = auth.client_from_login_flow(\n",
    "#             driver, api_key, redirect_uri, token_path)\n",
    "\n",
    "# r = c.get_price_history('AAPL',\n",
    "#         period_type=client.Client.PriceHistory.PeriodType.YEAR,\n",
    "#         period=client.Client.PriceHistory.Period.TWENTY_YEARS,\n",
    "#         frequency_type=client.Client.PriceHistory.FrequencyType.DAILY,\n",
    "#         frequency=client.Client.PriceHistory.Frequency.DAILY)\n",
    "# assert r.status_code == 200, r.raise_for_status()\n",
    "# print(json.dumps(r.json(), indent=4))\n",
    "# try:\n",
    "#     c = auth.client_from_token_file(config_tda.token_path, config_tda.api_key)\n",
    "# except FileNotFoundError:\n",
    "#     from selenium import webdriver\n",
    "#     with webdriver.Chrome() as driver:\n",
    "#         c = auth.client_from_login_flow(\n",
    "#             driver, api_key, redirect_uri, token_path)\n",
    "\n",
    "# r = c.get_account(client.Client.Account.ORDERS)\n",
    "# assert r.status_code == 200, r.raise_for_status()\n",
    "# print(json.dumps(r.json(), indent=4))"
   ]
  },
  {
   "cell_type": "code",
   "execution_count": 2,
   "metadata": {},
   "outputs": [
    {
     "data": {
      "text/plain": [
       "True"
      ]
     },
     "execution_count": 2,
     "metadata": {},
     "output_type": "execute_result"
    }
   ],
   "source": [
    "import alpaca_trade_api as aplpaca\n",
    "from alpaca_trade_api.rest import REST, TimeFrame\n",
    "import os\n",
    "from dotenv import load_dotenv\n",
    "\n",
    "from web3 import Web3\n",
    "from pathlib import Path\n",
    "import json\n",
    "load_dotenv()"
   ]
  },
  {
   "cell_type": "code",
   "execution_count": 3,
   "metadata": {},
   "outputs": [],
   "source": [
    "\n",
    "# Set Alpca API key and secret key, then insantiate an API object\n",
    "alpaca_api_key = os.getenv(\"ALPACA_API_KEY\")\n",
    "alpaca_secret_key = os.getenv(\"ALPACA_SECURITY_KEY\")\n",
    "\n",
    "tradeapi = REST(alpaca_api_key, alpaca_secret_key, api_version='v2')"
   ]
  },
  {
   "cell_type": "code",
   "execution_count": 4,
   "metadata": {},
   "outputs": [],
   "source": [
    "def get_ticker(ticker, start, end, tradeapi):\n",
    "    \"\"\"Executes the get_bars method from Alpaca Trade API\"\"\"\n",
    "    return tradeapi.get_bars(\n",
    "        ticker,\n",
    "        TimeFrame.Day,\n",
    "        start,\n",
    "        end\n",
    "    ).df\n",
    "    \n",
    "def grade_range(one_row_df):\n",
    "    \"\"\"Return the high and low of a single day\"\"\"\n",
    "    return one_row_df[['high', 'low']].reset_index().drop(columns='timestamp').values"
   ]
  },
  {
   "cell_type": "code",
   "execution_count": 5,
   "metadata": {},
   "outputs": [
    {
     "data": {
      "text/plain": [
       "array([[394.06, 389.95]])"
      ]
     },
     "execution_count": 5,
     "metadata": {},
     "output_type": "execute_result"
    }
   ],
   "source": [
    "grade_range(get_ticker(\"SPY\", \"2022-07-26\", \"2022-07-26\", tradeapi))"
   ]
  },
  {
   "cell_type": "code",
   "execution_count": 67,
   "metadata": {},
   "outputs": [],
   "source": [
    "class Grader:\n",
    "    def __init__(self,trader_id,log_address):\n",
    "        self.trader_id = trader_id\n",
    "        self.log_address = log_address"
   ]
  },
  {
   "cell_type": "code",
   "execution_count": 51,
   "metadata": {},
   "outputs": [],
   "source": [
    "import streamlit as st\n",
    "import alpaca_trade_api as aplpaca\n",
    "from alpaca_trade_api.rest import REST, TimeFrame\n",
    "import os\n",
    "import time\n",
    "from dotenv import load_dotenv\n",
    "\n",
    "from web3 import Web3\n",
    "from pathlib import Path\n",
    "\n",
    "import json\n",
    "from io import StringIO\n",
    "\n",
    "load_dotenv()\n",
    "\n",
    "\n",
    "w3 = Web3(Web3.HTTPProvider(os.getenv(\"WEB3_PROVIDER_URI\")))\n",
    "\n",
    "def load_deployer_contract():\n",
    "    contract_address = os.getenv(\"DEPLOYER_ADDRESS\") \n",
    "    with open(Path('deployer.json')) as f:\n",
    "            deployer_abi = json.load(f)\n",
    "\n",
    "    deployer_contract = w3.eth.contract(\n",
    "        address=contract_address,\n",
    "        abi=deployer_abi\n",
    "        )\n",
    "    return deployer_contract\n",
    "\n",
    "def load_contract():\n",
    "    contract_address = os.getenv(\"LOGGER_CONTRACT_ADDRESS\") #could make this variable\n",
    "    with open(Path('logger.json')) as f:\n",
    "            logger_abi = json.load(f)\n",
    "\n",
    "    logger_contract = w3.eth.contract(\n",
    "    address=contract_address,\n",
    "    abi=logger_abi\n",
    "        )\n",
    "    return logger_contract\n",
    "\n",
    "def handle_new_log(event):\n",
    "    io = StringIO((Web3.toJSON(event)))\n",
    "    return json.load(io)\n",
    "    \n",
    "\n",
    "def handle_new_trade(event):\n",
    "    io = StringIO((Web3.toJSON(event)))\n",
    "    return json.load(io)\n",
    "    \n"
   ]
  },
  {
   "cell_type": "code",
   "execution_count": 34,
   "metadata": {},
   "outputs": [
    {
     "data": {
      "text/plain": [
       "<web3._utils.datatypes.Contract at 0x1ea3e930b48>"
      ]
     },
     "execution_count": 34,
     "metadata": {},
     "output_type": "execute_result"
    }
   ],
   "source": [
    "deployer = load_deployer_contract()\n"
   ]
  },
  {
   "cell_type": "code",
   "execution_count": 52,
   "metadata": {},
   "outputs": [
    {
     "name": "stdout",
     "output_type": "stream",
     "text": [
      "[]\n",
      "--------------------------\n",
      "<class 'list'>\n",
      "[{'args': {'TraderId': 5, 'newLogAddress': '0x7310FEB5415b50505C49B6c882BdaBc1782E9d60'}, 'event': 'logCreated', 'logIndex': 0, 'transactionIndex': 0, 'transactionHash': '0xe79708588ce0cd9efea795fc942a5df83b00707fd8281b1b8d2f2cb22b8a5a32', 'address': '0x65570CFF945218356882cE36F3bEE72aca300206', 'blockHash': '0xf30c42450e1614851d85d99226ebdd4c91f565409ec0e78485f7f894a835b32e', 'blockNumber': 42}]\n",
      "--------------------------\n",
      "<class 'list'>\n",
      "[]\n",
      "--------------------------\n",
      "<class 'list'>\n",
      "[]\n",
      "--------------------------\n",
      "<class 'list'>\n"
     ]
    },
    {
     "ename": "KeyboardInterrupt",
     "evalue": "",
     "output_type": "error",
     "traceback": [
      "\u001b[1;31m---------------------------------------------------------------------------\u001b[0m",
      "\u001b[1;31mKeyboardInterrupt\u001b[0m                         Traceback (most recent call last)",
      "\u001b[1;32m~\\AppData\\Local\\Temp/ipykernel_21492/2202246824.py\u001b[0m in \u001b[0;36m<module>\u001b[1;34m\u001b[0m\n\u001b[0;32m      7\u001b[0m     \u001b[0mprint\u001b[0m\u001b[1;33m(\u001b[0m\u001b[1;34m\"--------------------------\"\u001b[0m\u001b[1;33m)\u001b[0m\u001b[1;33m\u001b[0m\u001b[1;33m\u001b[0m\u001b[0m\n\u001b[0;32m      8\u001b[0m     \u001b[0mprint\u001b[0m\u001b[1;33m(\u001b[0m\u001b[0mtype\u001b[0m\u001b[1;33m(\u001b[0m\u001b[0mnew_log_event\u001b[0m\u001b[1;33m)\u001b[0m\u001b[1;33m)\u001b[0m\u001b[1;33m\u001b[0m\u001b[1;33m\u001b[0m\u001b[0m\n\u001b[1;32m----> 9\u001b[1;33m     \u001b[0mtime\u001b[0m\u001b[1;33m.\u001b[0m\u001b[0msleep\u001b[0m\u001b[1;33m(\u001b[0m\u001b[1;36m10\u001b[0m\u001b[1;33m)\u001b[0m\u001b[1;33m\u001b[0m\u001b[1;33m\u001b[0m\u001b[0m\n\u001b[0m",
      "\u001b[1;31mKeyboardInterrupt\u001b[0m: "
     ]
    }
   ],
   "source": [
    "new_log_filter = deployer.events.logCreated.createFilter(fromBlock=\"latest\")\n",
    "\n",
    "while True:\n",
    "    new_log_event = handle_new_log(new_log_filter.get_new_entries())\n",
    "\n",
    "    print((new_log_event))\n",
    "    print(\"--------------------------\")\n",
    "    print(type(new_log_event))\n",
    "    time.sleep(10)"
   ]
  },
  {
   "cell_type": "code",
   "execution_count": null,
   "metadata": {},
   "outputs": [
    {
     "name": "stdout",
     "output_type": "stream",
     "text": [
      "[]\n",
      "--------------------------\n",
      "<class 'list'>\n"
     ]
    }
   ],
   "source": [
    "\n",
    "contract = load_contract() \n",
    "\n",
    "event_filter = contract.events.newTrade.createFilter(fromBlock=\"latest\")\n",
    "\n",
    "while True:\n",
    "    event = handle_new_trade(event_filter.get_new_entries())\n",
    "\n",
    "    print((event))\n",
    "    print(\"--------------------------\")\n",
    "    print(type(event))\n",
    "    time.sleep(10)"
   ]
  },
  {
   "cell_type": "code",
   "execution_count": 32,
   "metadata": {},
   "outputs": [
    {
     "data": {
      "text/plain": [
       "{'args': {'inputTraderAddress': '0x902A693035257b8f1e999E4a2414c450F5cB9E03',\n",
       "  'TradeId': 6,\n",
       "  'inputOpen': True,\n",
       "  'inputSymbol': 'MSFT',\n",
       "  'inputSize': 100,\n",
       "  'inputFractional_shares': 0,\n",
       "  'inputEntryPrice': 260,\n",
       "  'inputExitPrice': 0,\n",
       "  'inputExpirationTimeStamp': 0,\n",
       "  'inputStrike': 0,\n",
       "  'inputIsCall': True},\n",
       " 'event': 'newTrade',\n",
       " 'logIndex': 0,\n",
       " 'transactionIndex': 0,\n",
       " 'transactionHash': '0x4495bd80668a1894602a25eb47f6552d466de87881e8cbf1524ed930bd307287',\n",
       " 'address': '0xD6e7211B6199C64C7fd3578761dCC4b14B2Ec12d',\n",
       " 'blockHash': '0xb21554d0825169cc5cb963ef3bc709313f80a55e89ca7db53383618a51a39e67',\n",
       " 'blockNumber': 35}"
      ]
     },
     "execution_count": 32,
     "metadata": {},
     "output_type": "execute_result"
    }
   ],
   "source": [
    "event"
   ]
  },
  {
   "cell_type": "code",
   "execution_count": 53,
   "metadata": {},
   "outputs": [],
   "source": [
    "newLog = [{'args': {'TraderId': 5, 'newLogAddress': '0x7310FEB5415b50505C49B6c882BdaBc1782E9d60'}, 'event': 'logCreated', 'logIndex': 0, 'transactionIndex': 0, 'transactionHash': '0xe79708588ce0cd9efea795fc942a5df83b00707fd8281b1b8d2f2cb22b8a5a32', 'address': '0x65570CFF945218356882cE36F3bEE72aca300206', 'blockHash': '0xf30c42450e1614851d85d99226ebdd4c91f565409ec0e78485f7f894a835b32e', 'blockNumber': 42}]"
   ]
  },
  {
   "cell_type": "code",
   "execution_count": 60,
   "metadata": {},
   "outputs": [
    {
     "data": {
      "text/plain": [
       "{'TraderId': 5, 'newLogAddress': '0x7310FEB5415b50505C49B6c882BdaBc1782E9d60'}"
      ]
     },
     "execution_count": 60,
     "metadata": {},
     "output_type": "execute_result"
    }
   ],
   "source": [
    "new_log  = newLog[0]['args']\n",
    "new_log"
   ]
  },
  {
   "cell_type": "code",
   "execution_count": 63,
   "metadata": {},
   "outputs": [],
   "source": [
    "trader_dict = {}\n",
    "trader_dict[new_log['TraderId']]=Grader(new_log['TraderId'],new_log['newLogAddress'])"
   ]
  },
  {
   "cell_type": "code",
   "execution_count": 66,
   "metadata": {},
   "outputs": [
    {
     "data": {
      "text/plain": [
       "'0x7310FEB5415b50505C49B6c882BdaBc1782E9d60'"
      ]
     },
     "execution_count": 66,
     "metadata": {},
     "output_type": "execute_result"
    }
   ],
   "source": []
  },
  {
   "cell_type": "code",
   "execution_count": null,
   "metadata": {},
   "outputs": [],
   "source": []
  }
 ],
 "metadata": {
  "kernelspec": {
   "display_name": "Python 3.7.11 ('base')",
   "language": "python",
   "name": "python3"
  },
  "language_info": {
   "codemirror_mode": {
    "name": "ipython",
    "version": 3
   },
   "file_extension": ".py",
   "mimetype": "text/x-python",
   "name": "python",
   "nbconvert_exporter": "python",
   "pygments_lexer": "ipython3",
   "version": "3.7.11"
  },
  "orig_nbformat": 4,
  "vscode": {
   "interpreter": {
    "hash": "83e1771ce1f9df5de1670795847cb857ef6bf5f13021e3cce81b976772d7099f"
   }
  }
 },
 "nbformat": 4,
 "nbformat_minor": 2
}
