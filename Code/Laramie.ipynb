{
 "cells": [
  {
   "cell_type": "code",
   "execution_count": 1,
   "metadata": {},
   "outputs": [],
   "source": [
    "# pip install tda-api\n",
    "\n",
    "# from tda import auth, client\n",
    "# import json\n",
    "\n",
    "# import config_tda\n",
    "# from tda import auth, client\n",
    "# import json\n",
    "\n",
    "\n",
    "# try:\n",
    "#     c = auth.client_from_token_file(config_tda.token_path, config_tda.api_key)\n",
    "# except FileNotFoundError:\n",
    "#     from selenium import webdriver\n",
    "#     with webdriver.Chrome() as driver:\n",
    "#         c = auth.client_from_login_flow(\n",
    "#             driver, api_key, redirect_uri, token_path)\n",
    "\n",
    "# r = c.get_price_history('AAPL',\n",
    "#         period_type=client.Client.PriceHistory.PeriodType.YEAR,\n",
    "#         period=client.Client.PriceHistory.Period.TWENTY_YEARS,\n",
    "#         frequency_type=client.Client.PriceHistory.FrequencyType.DAILY,\n",
    "#         frequency=client.Client.PriceHistory.Frequency.DAILY)\n",
    "# assert r.status_code == 200, r.raise_for_status()\n",
    "# print(json.dumps(r.json(), indent=4))\n",
    "# try:\n",
    "#     c = auth.client_from_token_file(config_tda.token_path, config_tda.api_key)\n",
    "# except FileNotFoundError:\n",
    "#     from selenium import webdriver\n",
    "#     with webdriver.Chrome() as driver:\n",
    "#         c = auth.client_from_login_flow(\n",
    "#             driver, api_key, redirect_uri, token_path)\n",
    "\n",
    "# r = c.get_account(client.Client.Account.ORDERS)\n",
    "# assert r.status_code == 200, r.raise_for_status()\n",
    "# print(json.dumps(r.json(), indent=4))"
   ]
  },
  {
   "cell_type": "code",
   "execution_count": null,
   "metadata": {},
   "outputs": [],
   "source": []
  },
  {
   "cell_type": "code",
   "execution_count": 36,
   "metadata": {},
   "outputs": [
    {
     "data": {
      "text/plain": [
       "True"
      ]
     },
     "execution_count": 36,
     "metadata": {},
     "output_type": "execute_result"
    }
   ],
   "source": [
    "import alpaca_trade_api as aplpaca\n",
    "from alpaca_trade_api.rest import REST, TimeFrame\n",
    "import os\n",
    "from dotenv import load_dotenv\n",
    "from web3 import Web3\n",
    "from pathlib import Path\n",
    "import json\n",
    "load_dotenv()\n",
    "\n",
    "import alpaca_trade_api as aplpaca\n",
    "from alpaca_trade_api.rest import REST, TimeFrame\n",
    "import os\n",
    "import time\n",
    "import pandas as pd\n",
    "\n",
    "from web3 import Web3\n",
    "from pathlib import Path\n",
    "\n",
    "import json\n",
    "from io import StringIO\n",
    "\n",
    "from dotenv import load_dotenv\n",
    "load_dotenv()"
   ]
  },
  {
   "cell_type": "code",
   "execution_count": 3,
   "metadata": {},
   "outputs": [],
   "source": [
    "\n",
    "# Set Alpca API key and secret key, then insantiate an API object\n",
    "alpaca_api_key = os.getenv(\"ALPACA_API_KEY\")\n",
    "alpaca_secret_key = os.getenv(\"ALPACA_SECURITY_KEY\")\n",
    "\n",
    "tradeapi = REST(alpaca_api_key, alpaca_secret_key, api_version='v2')"
   ]
  },
  {
   "cell_type": "code",
   "execution_count": 4,
   "metadata": {},
   "outputs": [],
   "source": [
    "def get_ticker(ticker, start, end, tradeapi):\n",
    "    \"\"\"Executes the get_bars method from Alpaca Trade API\"\"\"\n",
    "    return tradeapi.get_bars(\n",
    "        ticker,\n",
    "        TimeFrame.Day,\n",
    "        start,\n",
    "        end\n",
    "    ).df\n",
    "    \n",
    "def grade_range(one_row_df):\n",
    "    \"\"\"Return the high and low of a single day\"\"\"\n",
    "    return one_row_df[['high', 'low']].reset_index().drop(columns='timestamp').values"
   ]
  },
  {
   "cell_type": "code",
   "execution_count": 5,
   "metadata": {},
   "outputs": [
    {
     "data": {
      "text/plain": [
       "array([[394.06, 389.95]])"
      ]
     },
     "execution_count": 5,
     "metadata": {},
     "output_type": "execute_result"
    }
   ],
   "source": [
    "grade_range(get_ticker(\"SPY\", \"2022-07-26\", \"2022-07-26\", tradeapi))"
   ]
  },
  {
   "cell_type": "code",
   "execution_count": 6,
   "metadata": {},
   "outputs": [],
   "source": [
    "def verify_trade(trade_event):\n",
    "    \n",
    "    \n",
    "    return verify_status"
   ]
  },
  {
   "cell_type": "code",
   "execution_count": 7,
   "metadata": {},
   "outputs": [],
   "source": [
    "class Grader:\n",
    "    # add event filters to Grader class \n",
    "    def __init__(self, trader_id, log_address):\n",
    "        self.trader_id = trader_id\n",
    "        self.log_address = log_address\n",
    "        \n",
    "    def load_contract(self):\n",
    "        contract_address = self.log_address\n",
    "        with open(Path('logger.json')) as f:\n",
    "            logger_abi = json.load(f)\n",
    "            \n",
    "            self.contract = w3.eth.contract(\n",
    "            address=contract_address,\n",
    "            abi=logger_abi)\n",
    "            \n",
    "            self.new_trade_filter = self.contract.events.newTrade.createFilter(fromBlock=\"latest\")\n",
    "            self.close_trade_filter = self.contract.events.newCloseTrade.createFilter(fromBlock=\"latest\")\n",
    "            self.new_sub_filter = self.contract.events.newSub.createFilter(fromBlock=\"latest\")\n",
    "            \n",
    "        return None\n",
    "    \n",
    "    def verify_trade(self):\n",
    "        pass        \n",
    "    "
   ]
  },
  {
   "cell_type": "code",
   "execution_count": 8,
   "metadata": {},
   "outputs": [],
   "source": [
    "import streamlit as st\n",
    "import alpaca_trade_api as aplpaca\n",
    "from alpaca_trade_api.rest import REST, TimeFrame\n",
    "import os\n",
    "import time\n",
    "from dotenv import load_dotenv\n",
    "\n",
    "from web3 import Web3\n",
    "from pathlib import Path\n",
    "\n",
    "import json\n",
    "from io import StringIO\n",
    "\n",
    "load_dotenv()\n",
    "\n",
    "\n",
    "w3 = Web3(Web3.HTTPProvider(os.getenv(\"WEB3_PROVIDER_URI\")))\n",
    "\n",
    "def load_deployer_contract():\n",
    "    contract_address = os.getenv(\"DEPLOYER_ADDRESS\") \n",
    "    with open(Path('deployer.json')) as f:\n",
    "            deployer_abi = json.load(f)\n",
    "\n",
    "    deployer_contract = w3.eth.contract(\n",
    "        address=contract_address,\n",
    "        abi=deployer_abi\n",
    "        )\n",
    "    trader_dict = {}\n",
    "    return deployer_contract, trader_dict\n",
    "\n",
    "def load_contract_new(log_addr):\n",
    "    contract_address = log_addr\n",
    "    with open(Path('logger.json')) as f:\n",
    "            logger_abi = json.load(f)\n",
    "\n",
    "    logger_contract = w3.eth.contract(\n",
    "        address=contract_address,\n",
    "        abi=logger_abi\n",
    "            )\n",
    "    return logger_contract\n",
    "\n",
    "def handle_new_log(event):\n",
    "    io = StringIO((Web3.toJSON(event)))\n",
    "    return json.load(io)\n",
    "    \n",
    "\n",
    "def handle_new_trade(event):\n",
    "    io = StringIO((Web3.toJSON(event)))\n",
    "    return json.load(io)\n",
    "    \n"
   ]
  },
  {
   "cell_type": "code",
   "execution_count": 9,
   "metadata": {},
   "outputs": [
    {
     "data": {
      "text/plain": [
       "'0x9725c52c23e7E871DC2CF19f20f101C6E80EeD29'"
      ]
     },
     "execution_count": 9,
     "metadata": {},
     "output_type": "execute_result"
    }
   ],
   "source": [
    "# Instantiate deployer and trader dictionary\n",
    "deployer, trader_dict = load_deployer_contract()\n",
    "\n",
    "deployer.address"
   ]
  },
  {
   "cell_type": "code",
   "execution_count": 32,
   "metadata": {},
   "outputs": [],
   "source": [
    "# from Libraries.sending_email import *"
   ]
  },
  {
   "cell_type": "code",
   "execution_count": 62,
   "metadata": {},
   "outputs": [
    {
     "name": "stdout",
     "output_type": "stream",
     "text": [
      "Starting while loop...\n",
      "--------------------------\n",
      "[{'args': {'TraderId': 1, 'subNum': 33, 'subAddr': '0x902A693035257b8f1e999E4a2414c450F5cB9E03'}, 'event': 'newSub', 'logIndex': 0, 'transactionIndex': 0, 'transactionHash': '0xe30c7c79a2944d42cddcda2ecefba7bccdde73e570f53135db19154ea62f51fc', 'address': '0x808Ec94452e7B58ab2fbacd17772431bfae07fb8', 'blockHash': '0xe77180e2c3b1aeb7c696eef1a85042dcc7597631d8b91aa040b6024796128e0e', 'blockNumber': 149}]\n",
      "--------------------------\n",
      "--------------------------\n",
      "[{'args': {'TraderId': 1, 'subNum': 34, 'subAddr': '0x902A693035257b8f1e999E4a2414c450F5cB9E03'}, 'event': 'newSub', 'logIndex': 0, 'transactionIndex': 0, 'transactionHash': '0x4c0929700769e22fb0941e38765019ecee0d4b4ff9eb238b4d72b97d8e283a0d', 'address': '0x808Ec94452e7B58ab2fbacd17772431bfae07fb8', 'blockHash': '0x998e23d54917573246b8a13e96310520a2eb63d082a49960acba49c3c6cb62e4', 'blockNumber': 150}]\n",
      "--------------------------\n",
      "--------------------------\n",
      "[{'args': {'TraderId': 1, 'subNum': 35, 'subAddr': '0x902A693035257b8f1e999E4a2414c450F5cB9E03'}, 'event': 'newSub', 'logIndex': 0, 'transactionIndex': 0, 'transactionHash': '0x69d0622f3cad30c9ebb1ad85a30b90ea956d88b3f6566a92decff40dd7c74d85', 'address': '0x808Ec94452e7B58ab2fbacd17772431bfae07fb8', 'blockHash': '0x8e4f6277e9d3dab7ffab731157c68845e7fbcf2685ca3cb2c9714e908f35c97d', 'blockNumber': 151}]\n",
      "--------------------------\n",
      "--------------------------\n",
      "[{'args': {'TraderId': 1, 'subNum': 36, 'subAddr': '0x902A693035257b8f1e999E4a2414c450F5cB9E03'}, 'event': 'newSub', 'logIndex': 0, 'transactionIndex': 0, 'transactionHash': '0x31f84838e9e69eed9acd31e8902eefd113719ef1ae83a24687eb128716d5af67', 'address': '0x808Ec94452e7B58ab2fbacd17772431bfae07fb8', 'blockHash': '0xcebbe4ff5433eb60bb08e250d79e83b0217c39cac0791fb7137ac3943f833a87', 'blockNumber': 152}]\n",
      "--------------------------\n"
     ]
    },
    {
     "ename": "KeyboardInterrupt",
     "evalue": "",
     "output_type": "error",
     "traceback": [
      "\u001b[1;31m---------------------------------------------------------------------------\u001b[0m",
      "\u001b[1;31mKeyboardInterrupt\u001b[0m                         Traceback (most recent call last)",
      "\u001b[1;32m~\\AppData\\Local\\Temp/ipykernel_26184/3196615759.py\u001b[0m in \u001b[0;36m<module>\u001b[1;34m\u001b[0m\n\u001b[0;32m     40\u001b[0m             \u001b[0msub_df\u001b[0m \u001b[1;33m=\u001b[0m \u001b[0msub_df\u001b[0m\u001b[1;33m.\u001b[0m\u001b[0mappend\u001b[0m\u001b[1;33m(\u001b[0m\u001b[0mnew_sub_event\u001b[0m\u001b[1;33m[\u001b[0m\u001b[1;36m0\u001b[0m\u001b[1;33m]\u001b[0m\u001b[1;33m[\u001b[0m\u001b[1;34m'args'\u001b[0m\u001b[1;33m]\u001b[0m\u001b[1;33m,\u001b[0m \u001b[0mignore_index\u001b[0m\u001b[1;33m=\u001b[0m\u001b[1;32mTrue\u001b[0m\u001b[1;33m)\u001b[0m\u001b[1;33m\u001b[0m\u001b[1;33m\u001b[0m\u001b[0m\n\u001b[0;32m     41\u001b[0m \u001b[1;33m\u001b[0m\u001b[0m\n\u001b[1;32m---> 42\u001b[1;33m     \u001b[0mtime\u001b[0m\u001b[1;33m.\u001b[0m\u001b[0msleep\u001b[0m\u001b[1;33m(\u001b[0m\u001b[1;36m3\u001b[0m\u001b[1;33m)\u001b[0m\u001b[1;33m\u001b[0m\u001b[1;33m\u001b[0m\u001b[0m\n\u001b[0m",
      "\u001b[1;31mKeyboardInterrupt\u001b[0m: "
     ]
    }
   ],
   "source": [
    "\n",
    "\n",
    "# Create a filter to find new log contracts\n",
    "new_log_filter = deployer.events.logCreated.createFilter(fromBlock=\"latest\")\n",
    "sub_df = pd.DataFrame(columns=(['TraderId', 'subNum', 'subAddr']))\n",
    "# Listen\n",
    "print(\"Starting while loop...\")\n",
    "while True:\n",
    "    # 1) Listen for new traders creating trading logs\n",
    "    new_log_event = handle_new_log(new_log_filter.get_new_entries())\n",
    "    if new_log_event:\n",
    "        print(\"--------------------------\")\n",
    "        print((new_log_event[0]['args']))\n",
    "        print(\"--------------------------\")\n",
    "        \n",
    "        # add the information to a Grader object stored at that trader's ID variable\n",
    "        new_log = new_log_event[0]['args']\n",
    "        trader_dict[new_log['TraderId']]=Grader(new_log['TraderId'], new_log['newLogAddress'])\n",
    "        trader_dict[new_log['TraderId']].load_contract()\n",
    "            \n",
    "    \n",
    "    # loop through each trader and look for new trades at their log's contract address\n",
    "    for key in trader_dict.keys():\n",
    "        new_trade_event = handle_new_trade(trader_dict[key].new_trade_filter.get_new_entries())\n",
    "        new_close_trade_event = handle_new_trade(trader_dict[key].close_trade_filter.get_new_entries())\n",
    "        new_sub_event = handle_new_trade(trader_dict[key].new_sub_filter.get_new_entries())\n",
    "        if new_trade_event:\n",
    "            print(\"--------------------------\")\n",
    "            print((new_trade_event))\n",
    "            print(\"--------------------------\")\n",
    "        if new_close_trade_event:\n",
    "            new_close_trade_event[0][\"TraderId\"] = key \n",
    "            print(\"--------------------------\")\n",
    "            print((new_close_trade_event))\n",
    "            print(\"--------------------------\")\n",
    "        if new_sub_event:\n",
    "            print(\"--------------------------\")\n",
    "            print(new_sub_event)\n",
    "            print(\"--------------------------\")\n",
    "            sub_df = sub_df.append(new_sub_event[0]['args'], ignore_index=True)\n",
    "                \n",
    "    time.sleep(3)"
   ]
  },
  {
   "cell_type": "code",
   "execution_count": 63,
   "metadata": {},
   "outputs": [
    {
     "data": {
      "text/html": [
       "<div>\n",
       "<style scoped>\n",
       "    .dataframe tbody tr th:only-of-type {\n",
       "        vertical-align: middle;\n",
       "    }\n",
       "\n",
       "    .dataframe tbody tr th {\n",
       "        vertical-align: top;\n",
       "    }\n",
       "\n",
       "    .dataframe thead th {\n",
       "        text-align: right;\n",
       "    }\n",
       "</style>\n",
       "<table border=\"1\" class=\"dataframe\">\n",
       "  <thead>\n",
       "    <tr style=\"text-align: right;\">\n",
       "      <th></th>\n",
       "      <th>TraderId</th>\n",
       "      <th>subNum</th>\n",
       "      <th>subAddr</th>\n",
       "    </tr>\n",
       "  </thead>\n",
       "  <tbody>\n",
       "    <tr>\n",
       "      <th>0</th>\n",
       "      <td>1</td>\n",
       "      <td>33</td>\n",
       "      <td>0x902A693035257b8f1e999E4a2414c450F5cB9E03</td>\n",
       "    </tr>\n",
       "    <tr>\n",
       "      <th>1</th>\n",
       "      <td>1</td>\n",
       "      <td>34</td>\n",
       "      <td>0x902A693035257b8f1e999E4a2414c450F5cB9E03</td>\n",
       "    </tr>\n",
       "    <tr>\n",
       "      <th>2</th>\n",
       "      <td>1</td>\n",
       "      <td>35</td>\n",
       "      <td>0x902A693035257b8f1e999E4a2414c450F5cB9E03</td>\n",
       "    </tr>\n",
       "    <tr>\n",
       "      <th>3</th>\n",
       "      <td>1</td>\n",
       "      <td>36</td>\n",
       "      <td>0x902A693035257b8f1e999E4a2414c450F5cB9E03</td>\n",
       "    </tr>\n",
       "  </tbody>\n",
       "</table>\n",
       "</div>"
      ],
      "text/plain": [
       "  TraderId subNum                                     subAddr\n",
       "0        1     33  0x902A693035257b8f1e999E4a2414c450F5cB9E03\n",
       "1        1     34  0x902A693035257b8f1e999E4a2414c450F5cB9E03\n",
       "2        1     35  0x902A693035257b8f1e999E4a2414c450F5cB9E03\n",
       "3        1     36  0x902A693035257b8f1e999E4a2414c450F5cB9E03"
      ]
     },
     "execution_count": 63,
     "metadata": {},
     "output_type": "execute_result"
    }
   ],
   "source": [
    "sub_df"
   ]
  },
  {
   "cell_type": "code",
   "execution_count": 57,
   "metadata": {},
   "outputs": [
    {
     "data": {
      "text/plain": [
       "['TraderId', 'subNum', 'subAddr']"
      ]
     },
     "execution_count": 57,
     "metadata": {},
     "output_type": "execute_result"
    }
   ],
   "source": [
    "sub_df.columns = event[0]['args'].keys()\n",
    "sub_df.append(event[0]['args'], ignore_index=True)\n",
    "col_names = sub_df.columns.to_list()\n",
    "col_names"
   ]
  },
  {
   "cell_type": "code",
   "execution_count": 52,
   "metadata": {},
   "outputs": [
    {
     "data": {
      "text/plain": [
       "dict_keys(['TraderId', 'subNum', 'subAddr'])"
      ]
     },
     "execution_count": 52,
     "metadata": {},
     "output_type": "execute_result"
    }
   ],
   "source": [
    "event[0]['args'].keys()"
   ]
  },
  {
   "cell_type": "code",
   "execution_count": 24,
   "metadata": {},
   "outputs": [],
   "source": [
    "event = [{'args': {'TraderId': 1, 'subNum': 10, 'subAddr': '0x902A693035257b8f1e999E4a2414c450F5cB9E03'}, 'event': 'newSub', 'logIndex': 0, 'transactionIndex': 0, 'transactionHash': '0x4423e211e72cc7e2d12e79aece49ee76cd1a216cf98c4aa03b8457da92af9077', 'address': '0x808Ec94452e7B58ab2fbacd17772431bfae07fb8', 'blockHash': '0x752e7475c5cf17c5e955a34a952ae557b7e43462f0cd265815720715a6a89e15', 'blockNumber': 126}]"
   ]
  },
  {
   "cell_type": "code",
   "execution_count": 45,
   "metadata": {},
   "outputs": [
    {
     "data": {
      "text/html": [
       "<div>\n",
       "<style scoped>\n",
       "    .dataframe tbody tr th:only-of-type {\n",
       "        vertical-align: middle;\n",
       "    }\n",
       "\n",
       "    .dataframe tbody tr th {\n",
       "        vertical-align: top;\n",
       "    }\n",
       "\n",
       "    .dataframe thead th {\n",
       "        text-align: right;\n",
       "    }\n",
       "</style>\n",
       "<table border=\"1\" class=\"dataframe\">\n",
       "  <thead>\n",
       "    <tr style=\"text-align: right;\">\n",
       "      <th></th>\n",
       "    </tr>\n",
       "  </thead>\n",
       "  <tbody>\n",
       "  </tbody>\n",
       "</table>\n",
       "</div>"
      ],
      "text/plain": [
       "Empty DataFrame\n",
       "Columns: []\n",
       "Index: []"
      ]
     },
     "execution_count": 45,
     "metadata": {},
     "output_type": "execute_result"
    }
   ],
   "source": [
    "sub_df.columns=([\"traderID\",\"subNum\",\"subAddress\"])"
   ]
  },
  {
   "cell_type": "code",
   "execution_count": 40,
   "metadata": {},
   "outputs": [
    {
     "data": {
      "text/plain": [
       "[1, 10, '0x902A693035257b8f1e999E4a2414c450F5cB9E03']"
      ]
     },
     "execution_count": 40,
     "metadata": {},
     "output_type": "execute_result"
    }
   ],
   "source": [
    "list(event[0]['args'].values())"
   ]
  },
  {
   "cell_type": "code",
   "execution_count": null,
   "metadata": {},
   "outputs": [
    {
     "data": {
      "text/plain": [
       "{'log_entry_formatter': <function get_event_data at 0x000001E7A0C081F8>,\n",
       " 'eth_module': <web3.eth.Eth at 0x1e7a3a04d88>,\n",
       " 'filter_id': '0x1d5',\n",
       " 'callbacks': [],\n",
       " 'filter_params': {'topics': ('0xa633b3cf9cf604b062687d6d28d6de58166d133b1709e63b10f3f893986f6292',),\n",
       "  'fromBlock': 'latest',\n",
       "  'toBlock': 'latest',\n",
       "  'address': '0xd032b99d5863e39F777Fc40ED0276f84888DCAbD'},\n",
       " 'data_filter_set': (('uint256', None), ('uint256', None), ('string', None)),\n",
       " 'data_filter_set_function': <function match_fn at 0x000001E7A0C0DCA8>,\n",
       " 'builder': <web3._utils.events.EventFilterBuilder at 0x1e7a3ad9908>}"
      ]
     },
     "execution_count": 11,
     "metadata": {},
     "output_type": "execute_result"
    }
   ],
   "source": [
    "trader_dict[13].close_trade_filter.__dict__"
   ]
  },
  {
   "cell_type": "code",
   "execution_count": null,
   "metadata": {},
   "outputs": [
    {
     "data": {
      "text/plain": [
       "{'log_entry_formatter': <function get_event_data at 0x00000162584D51F8>,\n",
       " 'eth_module': <web3.eth.Eth at 0x1625b2d5d48>,\n",
       " 'filter_id': '0x1b3',\n",
       " 'callbacks': [],\n",
       " 'filter_params': {'topics': ('0x3ccb4987690c8e37ec3a000310e45fbcef3730cf6068d27d5c688f294138287b',),\n",
       "  'fromBlock': 'latest',\n",
       "  'toBlock': 'latest',\n",
       "  'address': '0x4971CE19A9d9f57941C4C3A00ffE69d06746073b'},\n",
       " 'data_filter_set': (('uint256', None), ('address', None)),\n",
       " 'data_filter_set_function': <function match_fn at 0x00000162584DACA8>,\n",
       " 'builder': <web3._utils.events.EventFilterBuilder at 0x1625b664a48>}"
      ]
     },
     "execution_count": 45,
     "metadata": {},
     "output_type": "execute_result"
    }
   ],
   "source": [
    "new_log_filter.__dict__"
   ]
  },
  {
   "cell_type": "code",
   "execution_count": null,
   "metadata": {},
   "outputs": [
    {
     "data": {
      "text/plain": [
       "{'log_entry_formatter': <function get_event_data at 0x00000162584D51F8>,\n",
       " 'eth_module': <web3.eth.Eth at 0x1625b2d5d48>,\n",
       " 'filter_id': '0x1b5',\n",
       " 'callbacks': [],\n",
       " 'filter_params': {'topics': ('0xd31221654ebdc5f164b905fcf4b03959974549d0c7d04cf98383f5775b64b907',),\n",
       "  'fromBlock': 'latest',\n",
       "  'toBlock': 'latest',\n",
       "  'address': '0x86E6A9885fee00874AcCD6903eD307716c9181DD'},\n",
       " 'data_filter_set': (('uint256', None),\n",
       "  ('address', None),\n",
       "  ('uint256', None),\n",
       "  ('bool', None),\n",
       "  ('string', None),\n",
       "  ('string', None),\n",
       "  ('string', None),\n",
       "  ('string', None)),\n",
       " 'data_filter_set_function': <function match_fn at 0x00000162584DACA8>,\n",
       " 'builder': <web3._utils.events.EventFilterBuilder at 0x1625b6c5ac8>}"
      ]
     },
     "execution_count": 48,
     "metadata": {},
     "output_type": "execute_result"
    }
   ],
   "source": [
    "trader_dict[key].new_trade_filter.__dict__"
   ]
  },
  {
   "cell_type": "code",
   "execution_count": null,
   "metadata": {},
   "outputs": [
    {
     "data": {
      "text/plain": [
       "{'trader_id': 2,\n",
       " 'log_address': '0xEe1Dcb4Ed69Ff562d0A546aa66F8d900A7961BC2',\n",
       " 'contract': <web3._utils.datatypes.Contract at 0x1625b5e2948>,\n",
       " 'new_trade_filter': <web3._utils.filters.LogFilter at 0x1625b57b248>}"
      ]
     },
     "execution_count": 39,
     "metadata": {},
     "output_type": "execute_result"
    }
   ],
   "source": [
    "trader_dict[2].__dict__\n"
   ]
  },
  {
   "cell_type": "code",
   "execution_count": null,
   "metadata": {},
   "outputs": [],
   "source": [
    "for key in trader_dict.keys():\n",
    "    print(trader_dict[key].log_address)"
   ]
  },
  {
   "cell_type": "code",
   "execution_count": null,
   "metadata": {},
   "outputs": [
    {
     "data": {
      "text/plain": [
       "[{'args': {'TraderId': 10,\n",
       "   'inputTraderAddress': '0x902A693035257b8f1e999E4a2414c450F5cB9E03',\n",
       "   'tradeNum': 0,\n",
       "   'inputOpen': True,\n",
       "   'inputSymbol': 'MSFT',\n",
       "   'inputSize': 100,\n",
       "   'inputFractional_shares': 0,\n",
       "   'inputEntryPrice': 270,\n",
       "   'inputExitPrice': 0,\n",
       "   'inputExpirationTimeStamp': 0,\n",
       "   'inputStrike': 0,\n",
       "   'inputIsCall': True},\n",
       "  'event': 'newTrade',\n",
       "  'logIndex': 0,\n",
       "  'transactionIndex': 0,\n",
       "  'transactionHash': '0x81c3a64878b1715ec220e47912b20a19bb9be569b1fd5e84afdd08c5d447abd3',\n",
       "  'address': '0xa51183B1aeBf945b99B9A669fBbF0A0a617d6008',\n",
       "  'blockHash': '0xf37c55755000731c3fedd4338bd5408660fb0299963d922fcf8028ba57e2eec4',\n",
       "  'blockNumber': 49}]"
      ]
     },
     "execution_count": 95,
     "metadata": {},
     "output_type": "execute_result"
    }
   ],
   "source": [
    "log_contract = load_contract_new(trader_dict[10].log_address)\n",
    "event_filter = log_contract.events.newTrade.createFilter(fromBlock=\"latest\")\n",
    "event = handle_new_trade(event_filter.get_all_entries())\n",
    "event"
   ]
  },
  {
   "cell_type": "code",
   "execution_count": null,
   "metadata": {},
   "outputs": [
    {
     "name": "stdout",
     "output_type": "stream",
     "text": [
      "[]\n",
      "--------------------------\n",
      "<class 'list'>\n"
     ]
    }
   ],
   "source": [
    "\n",
    "contract = load_contract() \n",
    "\n",
    "event_filter = contract.events.newTrade.createFilter(fromBlock=\"latest\")\n",
    "\n",
    "while True:\n",
    "    event = handle_new_trade(event_filter.get_new_entries())\n",
    "\n",
    "    print((event))\n",
    "    print(\"--------------------------\")\n",
    "    print(type(event))\n",
    "    time.sleep(10)"
   ]
  },
  {
   "cell_type": "code",
   "execution_count": null,
   "metadata": {},
   "outputs": [
    {
     "data": {
      "text/plain": [
       "{'args': {'inputTraderAddress': '0x902A693035257b8f1e999E4a2414c450F5cB9E03',\n",
       "  'TradeId': 6,\n",
       "  'inputOpen': True,\n",
       "  'inputSymbol': 'MSFT',\n",
       "  'inputSize': 100,\n",
       "  'inputFractional_shares': 0,\n",
       "  'inputEntryPrice': 260,\n",
       "  'inputExitPrice': 0,\n",
       "  'inputExpirationTimeStamp': 0,\n",
       "  'inputStrike': 0,\n",
       "  'inputIsCall': True},\n",
       " 'event': 'newTrade',\n",
       " 'logIndex': 0,\n",
       " 'transactionIndex': 0,\n",
       " 'transactionHash': '0x4495bd80668a1894602a25eb47f6552d466de87881e8cbf1524ed930bd307287',\n",
       " 'address': '0xD6e7211B6199C64C7fd3578761dCC4b14B2Ec12d',\n",
       " 'blockHash': '0xb21554d0825169cc5cb963ef3bc709313f80a55e89ca7db53383618a51a39e67',\n",
       " 'blockNumber': 35}"
      ]
     },
     "execution_count": 32,
     "metadata": {},
     "output_type": "execute_result"
    }
   ],
   "source": [
    "event"
   ]
  },
  {
   "cell_type": "code",
   "execution_count": null,
   "metadata": {},
   "outputs": [],
   "source": [
    "newLog = [{'args': {'TraderId': 5, 'newLogAddress': '0x7310FEB5415b50505C49B6c882BdaBc1782E9d60'}, 'event': 'logCreated', 'logIndex': 0, 'transactionIndex': 0, 'transactionHash': '0xe79708588ce0cd9efea795fc942a5df83b00707fd8281b1b8d2f2cb22b8a5a32', 'address': '0x65570CFF945218356882cE36F3bEE72aca300206', 'blockHash': '0xf30c42450e1614851d85d99226ebdd4c91f565409ec0e78485f7f894a835b32e', 'blockNumber': 42}]"
   ]
  },
  {
   "cell_type": "code",
   "execution_count": null,
   "metadata": {},
   "outputs": [
    {
     "data": {
      "text/plain": [
       "{'TraderId': 5, 'newLogAddress': '0x7310FEB5415b50505C49B6c882BdaBc1782E9d60'}"
      ]
     },
     "execution_count": 60,
     "metadata": {},
     "output_type": "execute_result"
    }
   ],
   "source": [
    "new_log  = newLog[0]['args']\n",
    "new_log"
   ]
  },
  {
   "cell_type": "code",
   "execution_count": null,
   "metadata": {},
   "outputs": [],
   "source": [
    "trader_dict = {}\n",
    "trader_dict[new_log['TraderId']]=Grader(new_log['TraderId'],new_log['newLogAddress'])"
   ]
  },
  {
   "cell_type": "code",
   "execution_count": null,
   "metadata": {},
   "outputs": [
    {
     "data": {
      "text/plain": [
       "'0x809Fb2c2E74f238dA88b58aBC598e8872195Ca58'"
      ]
     },
     "execution_count": 76,
     "metadata": {},
     "output_type": "execute_result"
    }
   ],
   "source": [
    "trader_dict[8].log_address"
   ]
  },
  {
   "cell_type": "code",
   "execution_count": null,
   "metadata": {},
   "outputs": [],
   "source": [
    "def load_contract_new(log_addr):\n",
    "    contract_address = log_addr\n",
    "    with open(Path('logger.json')) as f:\n",
    "            logger_abi = json.load(f)\n",
    "\n",
    "    logger_contract = w3.eth.contract(\n",
    "    address=contract_address,\n",
    "    abi=logger_abi\n",
    "        )\n",
    "    return logger_contract"
   ]
  },
  {
   "cell_type": "code",
   "execution_count": null,
   "metadata": {},
   "outputs": [],
   "source": [
    "ex_contract = load_contract_new(trader_dict[8].log_address)"
   ]
  },
  {
   "cell_type": "code",
   "execution_count": null,
   "metadata": {},
   "outputs": [
    {
     "data": {
      "text/plain": [
       "<web3._utils.datatypes.Contract at 0x1ea3ea0ab48>"
      ]
     },
     "execution_count": 79,
     "metadata": {},
     "output_type": "execute_result"
    }
   ],
   "source": [
    "ex_contract"
   ]
  },
  {
   "cell_type": "code",
   "execution_count": null,
   "metadata": {},
   "outputs": [],
   "source": []
  }
 ],
 "metadata": {
  "kernelspec": {
   "display_name": "Python 3.7.11 ('base')",
   "language": "python",
   "name": "python3"
  },
  "language_info": {
   "codemirror_mode": {
    "name": "ipython",
    "version": 3
   },
   "file_extension": ".py",
   "mimetype": "text/x-python",
   "name": "python",
   "nbconvert_exporter": "python",
   "pygments_lexer": "ipython3",
   "version": "3.7.11"
  },
  "orig_nbformat": 4,
  "vscode": {
   "interpreter": {
    "hash": "83e1771ce1f9df5de1670795847cb857ef6bf5f13021e3cce81b976772d7099f"
   }
  }
 },
 "nbformat": 4,
 "nbformat_minor": 2
}
