{
 "cells": [
  {
   "cell_type": "markdown",
   "metadata": {},
   "source": [
    "---\n",
    "## Imports\n",
    "---"
   ]
  },
  {
   "cell_type": "code",
   "execution_count": 6,
   "metadata": {},
   "outputs": [
    {
     "data": {
      "text/plain": [
       "True"
      ]
     },
     "execution_count": 6,
     "metadata": {},
     "output_type": "execute_result"
    }
   ],
   "source": [
    "import pandas as pd\n",
    "import os\n",
    "import json\n",
    "from web3 import Web3\n",
    "from pathlib import Path\n",
    "from dotenv import load_dotenv\n",
    "import streamlit as st\n",
    "import time\n",
    "\n",
    "load_dotenv()"
   ]
  },
  {
   "cell_type": "markdown",
   "metadata": {},
   "source": [
    "---\n",
    "## Server Funcitonality\n",
    "---"
   ]
  },
  {
   "cell_type": "code",
   "execution_count": 2,
   "metadata": {},
   "outputs": [],
   "source": [
    "# Pull Log\n",
    "# Evaluate traders\n",
    "\t# Trading period\n",
    "\t# Trading metrics\n",
    "\t# Send Eval Report (open source/show functions)\n",
    "\t\n",
    "# Distribute Subscriptions\n"
   ]
  },
  {
   "cell_type": "markdown",
   "metadata": {},
   "source": [
    "---\n",
    "## Client Functionality\n",
    "---"
   ]
  },
  {
   "cell_type": "markdown",
   "metadata": {},
   "source": [
    "### Trader Functionality\n"
   ]
  },
  {
   "cell_type": "code",
   "execution_count": 1,
   "metadata": {},
   "outputs": [
    {
     "data": {
      "text/plain": [
       "'0x54F87a0CB10e3B59cf102807ccEa4C3c9AB8Cad9'"
      ]
     },
     "execution_count": 1,
     "metadata": {},
     "output_type": "execute_result"
    }
   ],
   "source": [
    "from Libraries.web3_contract import load_web3\n",
    "contract,address,w3 = load_web3(\".\\Contracts\\ABI\\Contract_abi.json\")\n",
    "address"
   ]
  },
  {
   "cell_type": "code",
   "execution_count": 9,
   "metadata": {},
   "outputs": [
    {
     "data": {
      "text/plain": [
       "'This is a Alapaca trading platform.'"
      ]
     },
     "execution_count": 9,
     "metadata": {},
     "output_type": "execute_result"
    }
   ],
   "source": [
    "# For interacting with the market (Opening/Closing Trades) utilize this method\n",
    "# Easy to keep things consistent and trade out trading platforms\n",
    "from Libraries.TradingPlatforms import trade_platforms, init_TradingPlatform\n",
    "test_platform = init_TradingPlatform(trade_platforms['alpaca'],contract)\n",
    "test_platform.__hello__()"
   ]
  },
  {
   "cell_type": "code",
   "execution_count": 5,
   "metadata": {},
   "outputs": [],
   "source": [
    "# Still need functionality for:\n",
    "# Receive Subscriptions"
   ]
  },
  {
   "cell_type": "markdown",
   "metadata": {},
   "source": [
    "### Viewer Functionality\n"
   ]
  },
  {
   "cell_type": "code",
   "execution_count": 6,
   "metadata": {},
   "outputs": [],
   "source": [
    "# Subscribe"
   ]
  },
  {
   "cell_type": "markdown",
   "metadata": {},
   "source": [
    "---\n",
    "## Client Interface\n",
    "---\n"
   ]
  },
  {
   "cell_type": "markdown",
   "metadata": {},
   "source": [
    "### Trader Interface\n"
   ]
  },
  {
   "cell_type": "code",
   "execution_count": 26,
   "metadata": {},
   "outputs": [],
   "source": [
    "########## SideBar ##########\n",
    "# list(trade_platforms.values())\n",
    "# Select Trade Type Dropdown\n",
    "# Start Trading Button\n",
    "\n",
    "########## Tabs ##########\n",
    "# Enter Trade\n",
    "# Close Trade (from radio or dropdown)\n",
    "from datetime import datetime\n",
    "import time\n",
    "import pandas as pd\n",
    "EntryPrice=2.50\n",
    "EntryTime=int(time.mktime(datetime.now().timetuple()))\n",
    "theList = [EntryPrice,EntryTime]\n"
   ]
  },
  {
   "cell_type": "code",
   "execution_count": 27,
   "metadata": {},
   "outputs": [
    {
     "data": {
      "text/plain": [
       "'2.5, 1659204818'"
      ]
     },
     "execution_count": 27,
     "metadata": {},
     "output_type": "execute_result"
    }
   ],
   "source": [
    "def list_to_string(inputList):\n",
    "    outString = \"\"\n",
    "    for item in inputList:\n",
    "        if type(item) == datetime:\n",
    "            outString += int(time.mktime(item.timetuple()))\n",
    "        else:\n",
    "            outString += str(item)\n",
    "        outString\n",
    "        if (item != inputList[len(inputList)-1]):\n",
    "            outString += \", \"\n",
    "    return outString\n",
    "theString = list_to_string(theList)\n",
    "theString"
   ]
  },
  {
   "cell_type": "code",
   "execution_count": 30,
   "metadata": {},
   "outputs": [
    {
     "data": {
      "text/plain": [
       "[2.5, Timestamp('2022-07-30 18:13:38')]"
      ]
     },
     "execution_count": 30,
     "metadata": {},
     "output_type": "execute_result"
    }
   ],
   "source": [
    "def string_to_list_end_dateTime(inputString):\n",
    "    splitList = inputString.split(\", \")\n",
    "    outList = []\n",
    "    for item in splitList:\n",
    "        if (item != splitList[len(splitList)-1]):\n",
    "            outList.append(float(item))\n",
    "        else:\n",
    "            outList.append(pd.to_datetime(item, unit='s'))\n",
    "    return outList\n",
    "otherEnd = string_to_list_end_dateTime(theString)\n",
    "otherEnd"
   ]
  },
  {
   "cell_type": "markdown",
   "metadata": {},
   "source": [
    "### Viewer Interface"
   ]
  },
  {
   "cell_type": "code",
   "execution_count": 8,
   "metadata": {},
   "outputs": [],
   "source": [
    "# Enter Subscription\n",
    "# View Subscriptions\n",
    "\t# Filter from logger and grader\n"
   ]
  }
 ],
 "metadata": {
  "kernelspec": {
   "display_name": "Python 3.7.11 ('base')",
   "language": "python",
   "name": "python3"
  },
  "language_info": {
   "codemirror_mode": {
    "name": "ipython",
    "version": 3
   },
   "file_extension": ".py",
   "mimetype": "text/x-python",
   "name": "python",
   "nbconvert_exporter": "python",
   "pygments_lexer": "ipython3",
   "version": "3.7.11"
  },
  "orig_nbformat": 4,
  "vscode": {
   "interpreter": {
    "hash": "60051db9b49e7622da472558d5c9910b644d729726c3e885e40a692d81c6b654"
   }
  }
 },
 "nbformat": 4,
 "nbformat_minor": 2
}
