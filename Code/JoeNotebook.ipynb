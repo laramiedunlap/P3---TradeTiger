{
 "cells": [
  {
   "cell_type": "markdown",
   "metadata": {},
   "source": [
    "---\n",
    "## Imports\n",
    "---"
   ]
  },
  {
   "cell_type": "code",
   "execution_count": 39,
   "metadata": {},
   "outputs": [
    {
     "data": {
      "text/plain": [
       "True"
      ]
     },
     "execution_count": 39,
     "metadata": {},
     "output_type": "execute_result"
    }
   ],
   "source": [
    "import pandas as pd\n",
    "import os\n",
    "import json\n",
    "from web3 import Web3\n",
    "from pathlib import Path\n",
    "from dotenv import load_dotenv\n",
    "import streamlit as st\n",
    "import time\n",
    "from datetime import datetime\n",
    "import smtplib, ssl\n",
    "load_dotenv()"
   ]
  },
  {
   "cell_type": "markdown",
   "metadata": {},
   "source": [
    "---\n",
    "## Server Funcitonality\n",
    "---"
   ]
  },
  {
   "cell_type": "code",
   "execution_count": 5,
   "metadata": {},
   "outputs": [],
   "source": [
    "# Pull Log\n",
    "# Evaluate traders\n",
    "\t# Trading period\n",
    "\t# Trading metrics\n",
    "\t# Send Eval Report (open source/show functions)\n",
    "\t\n",
    "# Distribute Subscriptions\n"
   ]
  },
  {
   "cell_type": "markdown",
   "metadata": {},
   "source": [
    "---\n",
    "## Client Functionality\n",
    "---"
   ]
  },
  {
   "cell_type": "markdown",
   "metadata": {},
   "source": [
    "### Trader Functionality\n"
   ]
  },
  {
   "cell_type": "code",
   "execution_count": 6,
   "metadata": {},
   "outputs": [
    {
     "data": {
      "text/plain": [
       "'0x12e8e73231Dd04547C1c50e6f0B0E9a6cBfA4d08'"
      ]
     },
     "execution_count": 6,
     "metadata": {},
     "output_type": "execute_result"
    }
   ],
   "source": [
    "from Libraries.web3_contract import load_web3\n",
    "contract,address,w3 = load_web3(\".\\Contracts\\ABI\\Contract_abi.json\")\n",
    "address"
   ]
  },
  {
   "cell_type": "code",
   "execution_count": 7,
   "metadata": {},
   "outputs": [
    {
     "data": {
      "text/plain": [
       "'This is a Alpaca trading platform.'"
      ]
     },
     "execution_count": 7,
     "metadata": {},
     "output_type": "execute_result"
    }
   ],
   "source": [
    "# For interacting with the market (Opening/Closing Trades) utilize this method\n",
    "# Easy to keep things consistent and trade out trading platforms\n",
    "from datetime import datetime\n",
    "from Libraries.TradingPlatforms import trade_platforms, init_TradingPlatform\n",
    "test_platform = init_TradingPlatform(trade_platforms['alpaca'],contract)\n",
    "test_platform.__hello__()"
   ]
  },
  {
   "cell_type": "code",
   "execution_count": 8,
   "metadata": {},
   "outputs": [
    {
     "ename": "AttributeError",
     "evalue": "'str' object has no attribute 'trade_api'",
     "output_type": "error",
     "traceback": [
      "\u001b[1;31m---------------------------------------------------------------------------\u001b[0m",
      "\u001b[1;31mAttributeError\u001b[0m                            Traceback (most recent call last)",
      "\u001b[1;32m~\\AppData\\Local\\Temp/ipykernel_14932/1193678998.py\u001b[0m in \u001b[0;36m<module>\u001b[1;34m\u001b[0m\n\u001b[0;32m      4\u001b[0m \u001b[0mSymbol\u001b[0m\u001b[1;33m=\u001b[0m \u001b[1;34m\"BTC\"\u001b[0m\u001b[1;33m\u001b[0m\u001b[1;33m\u001b[0m\u001b[0m\n\u001b[0;32m      5\u001b[0m \u001b[0mSize\u001b[0m\u001b[1;33m=\u001b[0m \u001b[1;36m1\u001b[0m\u001b[1;33m\u001b[0m\u001b[1;33m\u001b[0m\u001b[0m\n\u001b[1;32m----> 6\u001b[1;33m \u001b[0mEntryPrice\u001b[0m\u001b[1;33m=\u001b[0m \u001b[0mtest_platform\u001b[0m\u001b[1;33m.\u001b[0m\u001b[0mplatform\u001b[0m\u001b[1;33m.\u001b[0m\u001b[0mtrade_api\u001b[0m \u001b[1;31m#TODO get price\u001b[0m\u001b[1;33m\u001b[0m\u001b[1;33m\u001b[0m\u001b[0m\n\u001b[0m\u001b[0;32m      7\u001b[0m \u001b[0mEntryTime\u001b[0m\u001b[1;33m=\u001b[0m \u001b[0mdatetime\u001b[0m\u001b[1;33m.\u001b[0m\u001b[0mnow\u001b[0m\u001b[1;33m(\u001b[0m\u001b[1;33m)\u001b[0m\u001b[1;33m\u001b[0m\u001b[1;33m\u001b[0m\u001b[0m\n\u001b[0;32m      8\u001b[0m \u001b[0mExpirationTimeStamp\u001b[0m\u001b[1;33m=\u001b[0m \u001b[1;34m\"NOT USED\"\u001b[0m\u001b[1;33m\u001b[0m\u001b[1;33m\u001b[0m\u001b[0m\n",
      "\u001b[1;31mAttributeError\u001b[0m: 'str' object has no attribute 'trade_api'"
     ]
    }
   ],
   "source": [
    "TraderAddress = address\n",
    "TraderID= 1\n",
    "Open= 1\n",
    "Symbol= \"BTC\"\n",
    "Size= 1\n",
    "EntryPrice= test_platform.platform.trade_api #TODO get price\n",
    "EntryTime= datetime.now()\n",
    "ExpirationTimeStamp= \"NOT USED\"\n",
    "Strike= \"NOT USED\"\n",
    "IsCall= \"NOT USED\"\n",
    "\n",
    "test_platform.openTrade(TraderAddress,TraderID,Open,Symbol,Size,EntryPrice,EntryTime,ExpirationTimeStamp,Strike,IsCall)"
   ]
  },
  {
   "cell_type": "markdown",
   "metadata": {},
   "source": [
    "### Viewer Functionality\n"
   ]
  },
  {
   "cell_type": "code",
   "execution_count": null,
   "metadata": {},
   "outputs": [],
   "source": [
    "# Subscribe"
   ]
  },
  {
   "cell_type": "markdown",
   "metadata": {},
   "source": [
    "---\n",
    "## Client Interface\n",
    "---\n"
   ]
  },
  {
   "cell_type": "markdown",
   "metadata": {},
   "source": [
    "### Trader Interface\n"
   ]
  },
  {
   "cell_type": "code",
   "execution_count": 1,
   "metadata": {},
   "outputs": [],
   "source": [
    "import alpaca_trade_api as tradeapi\n",
    "\n",
    "API_KEY = os.getenv(\"APCA_API_KEY_ID\")\n",
    "API_SECRET = os.getenv(\"APCA_API_SECRET_KEY\")\n",
    "BASE_URL = os.getenv(\"APCA_API_BASE_URL\")\n",
    "alpaca_trader = tradeapi.REST(API_KEY, API_SECRET, BASE_URL)"
   ]
  },
  {
   "cell_type": "code",
   "execution_count": 2,
   "metadata": {},
   "outputs": [
    {
     "data": {
      "text/plain": [
       "160.44"
      ]
     },
     "execution_count": 2,
     "metadata": {},
     "output_type": "execute_result"
    }
   ],
   "source": [
    "alpaca_trader.get_bars(\"AAPL\",'1Min',limit=1).df['close'][0]"
   ]
  },
  {
   "cell_type": "code",
   "execution_count": 14,
   "metadata": {},
   "outputs": [
    {
     "data": {
      "text/plain": [
       "True"
      ]
     },
     "execution_count": 14,
     "metadata": {},
     "output_type": "execute_result"
    }
   ],
   "source": [
    "alpaca_trader.list_orders()[0].status in [\"accepted\",\"accepted_for_bidding\",\"calculated\",\"done_for_day\",\"filled\",\"new\",\"partially_filled\"]"
   ]
  },
  {
   "cell_type": "code",
   "execution_count": 30,
   "metadata": {},
   "outputs": [],
   "source": [
    "########## SideBar ##########\n",
    "# list(trade_platforms.values())\n",
    "# Select Trade Type Dropdown\n",
    "# Start Trading Button\n",
    "\n",
    "########## Tabs ##########\n",
    "# Enter Trade\n",
    "# Close Trade (from radio or dropdown)\n",
    "\n",
    "EntryPrice=2.50\n",
    "EntryTime=int(time.mktime(datetime.now().timetuple()))\n",
    "theList = [EntryPrice,EntryTime]\n",
    "list2 = [\"None\", \"N/A\", \"None\"]"
   ]
  },
  {
   "cell_type": "code",
   "execution_count": 37,
   "metadata": {},
   "outputs": [
    {
     "data": {
      "text/plain": [
       "'2.5, 1659750918'"
      ]
     },
     "execution_count": 37,
     "metadata": {},
     "output_type": "execute_result"
    }
   ],
   "source": [
    "def list_to_string(inputList):\n",
    "    outString = \"\"\n",
    "    count = 0\n",
    "    limit = len(inputList)-1\n",
    "    for item in inputList:\n",
    "        if type(item) == datetime:\n",
    "            outString += item.strftime(\"%m/%d/%Y, %H:%M:%S\")\n",
    "        else:\n",
    "            outString += str(item)\n",
    "        outString\n",
    "        if (count < limit):\n",
    "            outString += \", \"\n",
    "        count+=1\n",
    "    return outString\n",
    "theString = list_to_string(theList)\n",
    "theString"
   ]
  },
  {
   "cell_type": "code",
   "execution_count": null,
   "metadata": {},
   "outputs": [
    {
     "data": {
      "text/plain": [
       "[2.5, Timestamp('2022-07-30 18:13:38')]"
      ]
     },
     "execution_count": 30,
     "metadata": {},
     "output_type": "execute_result"
    }
   ],
   "source": [
    "def string_to_list_end_dateTime(inputString):\n",
    "    splitList = inputString.split(\", \")\n",
    "    outList = []\n",
    "    for item in splitList:\n",
    "        if (item != splitList[len(splitList)-1]):\n",
    "            outList.append(float(item))\n",
    "        else:\n",
    "            outList.append(pd.to_datetime(item, unit='s'))\n",
    "    return outList\n",
    "otherEnd = string_to_list_end_dateTime(theString)\n",
    "otherEnd"
   ]
  },
  {
   "cell_type": "code",
   "execution_count": null,
   "metadata": {},
   "outputs": [
    {
     "data": {
      "text/plain": [
       "1659399117"
      ]
     },
     "execution_count": 6,
     "metadata": {},
     "output_type": "execute_result"
    }
   ],
   "source": [
    "def input_date_string(date):\n",
    "    return int(time.mktime(pd.to_datetime(date).timetuple()))\n",
    "input_date_string(datetime.now().strftime(\"%m/%d/%Y, %H:%M:%S\"))"
   ]
  },
  {
   "cell_type": "markdown",
   "metadata": {},
   "source": [
    "### Viewer Interface"
   ]
  },
  {
   "cell_type": "code",
   "execution_count": null,
   "metadata": {},
   "outputs": [],
   "source": [
    "# Enter Subscription\n",
    "# View Subscriptions\n",
    "\t# Filter from logger and grader\n"
   ]
  },
  {
   "cell_type": "code",
   "execution_count": 46,
   "metadata": {},
   "outputs": [
    {
     "data": {
      "text/html": [
       "<div>\n",
       "<style scoped>\n",
       "    .dataframe tbody tr th:only-of-type {\n",
       "        vertical-align: middle;\n",
       "    }\n",
       "\n",
       "    .dataframe tbody tr th {\n",
       "        vertical-align: top;\n",
       "    }\n",
       "\n",
       "    .dataframe thead th {\n",
       "        text-align: right;\n",
       "    }\n",
       "</style>\n",
       "<table border=\"1\" class=\"dataframe\">\n",
       "  <thead>\n",
       "    <tr style=\"text-align: right;\">\n",
       "      <th></th>\n",
       "      <th>Unnamed: 0</th>\n",
       "      <th>trader_log_address</th>\n",
       "      <th>subscriber_address</th>\n",
       "      <th>email_address</th>\n",
       "      <th>trade_id</th>\n",
       "    </tr>\n",
       "  </thead>\n",
       "  <tbody>\n",
       "    <tr>\n",
       "      <th>0</th>\n",
       "      <td>0</td>\n",
       "      <td>0xAaaC3f8bbEA924c973251A4eb99Ae3497069b904</td>\n",
       "      <td>0x799C8598540Ec3F0C7DC4e9fcba676a92D564a81</td>\n",
       "      <td>jhg55555@gmail.com</td>\n",
       "      <td>1</td>\n",
       "    </tr>\n",
       "  </tbody>\n",
       "</table>\n",
       "</div>"
      ],
      "text/plain": [
       "   Unnamed: 0                          trader_log_address  \\\n",
       "0           0  0xAaaC3f8bbEA924c973251A4eb99Ae3497069b904   \n",
       "\n",
       "                           subscriber_address       email_address  trade_id  \n",
       "0  0x799C8598540Ec3F0C7DC4e9fcba676a92D564a81  jhg55555@gmail.com         1  "
      ]
     },
     "execution_count": 46,
     "metadata": {},
     "output_type": "execute_result"
    }
   ],
   "source": [
    "sub_df = pd.read_csv(\"Libraries/sub.csv\")\n",
    "sub_df"
   ]
  },
  {
   "cell_type": "code",
   "execution_count": 51,
   "metadata": {},
   "outputs": [],
   "source": [
    "new_trade_event=[{'args': {'TraderId': 1, 'inputTraderAddress': '0x2301A3e6E59d985385ab0D0f85be56ccD8237abA', 'tradeNum': 3, 'inputOpen': True, 'inputSymbol': 'AAPL', 'inputSize': '10.0', 'inputEntryPriceEntryTime': '165.99, 08/05/2022, 22:07:09', 'optionsData': 'None, N/A, None'}, 'event': 'newTrade', 'logIndex': 0, 'transactionIndex': 0, 'transactionHash': '0xcdcebc452dd4ca9f533d5b17464d529eccf6aa4e0eb1d8e299a52cdb3534ce20', 'address': '0xAaaC3f8bbEA924c973251A4eb99Ae3497069b904', 'blockHash': '0x3d42652d274246b05490f8d203b255ceb6982d12f9da8ad93d25171738bd2613', 'blockNumber': 10}]\n",
    "# new_close_trade_event="
   ]
  },
  {
   "cell_type": "code",
   "execution_count": 52,
   "metadata": {},
   "outputs": [],
   "source": [
    "def email_out(message,MailingList):\n",
    "    print(MailingList)\n",
    "    print(message)\n",
    "    if (len(MailingList) != 0):\n",
    "        port = 465  # For SSL\n",
    "        smtp_server = \"smtp.gmail.com\"\n",
    "        sender_email = \"fivetradetiger@gmail.com\"\n",
    "        password = os.getenv(\"EMAIL_PASSWORD\")\n",
    "        context = ssl.create_default_context()\n",
    "        with smtplib.SMTP_SSL(\"smtp.gmail.com\", port, context=context) as server:\n",
    "            print(server.login(sender_email, password))\n",
    "            server.sendmail(sender_email,MailingList, message) \n",
    "\n",
    "def new_trade_email(new_trade_event):\n",
    "    MailingList = sub_df[sub_df[\"trade_id\"]== new_trade_event[0]['args']['TraderId']][\"email_address\"]\n",
    "    message = f\"\"\"Subject: Your new open trade\n",
    "\n",
    "                Your subscribed trader, {new_trade_event[0]['args']['TraderId']}, made the following trade:\n",
    "                Open {new_trade_event[0]['args']['inputSize']} share(s) of {new_trade_event[0]['args']['inputSymbol']} at price ${new_trade_event[0]['args']['inputEntryPriceEntryTime']}, options data is {new_trade_event[0]['args']['optionsData']}.\n",
    "                \n",
    "                \"\"\"\n",
    "    email_out(message,MailingList)\n",
    "\n",
    "def new_close_trade_email(new_close_trade_event):\n",
    "    MailingList = sub_df[sub_df[\"trade_id\"]== new_close_trade_event[0]['args']['TraderId']][\"email_address\"]\n",
    "    message = f\"\"\"Subject: Your next close trade\n",
    "\n",
    "                Your subscribed trader, {new_close_trade_event[0]['args']['TraderId']}, closed the following trade:\n",
    "                Close {new_close_trade_event[0]['args']['tradeNum']} at price ${new_close_trade_event[0]['args']['exitPriceExitTime']}.\n",
    "                \n",
    "                \"\"\"\n",
    "    email_out(message, MailingList)\n"
   ]
  },
  {
   "cell_type": "code",
   "execution_count": 53,
   "metadata": {},
   "outputs": [
    {
     "name": "stdout",
     "output_type": "stream",
     "text": [
      "0    jhg55555@gmail.com\n",
      "Name: email_address, dtype: object\n",
      "Subject: Your new open trade\n",
      "\n",
      "                Your subscribed trader, 1, made the following trade:\n",
      "                Open 10.0 share(s) of AAPL at price $165.99, 08/05/2022, 22:07:09, options data is None, N/A, None.\n",
      "                \n",
      "                \n",
      "(235, b'2.7.0 Accepted')\n"
     ]
    }
   ],
   "source": [
    "new_trade_email(new_trade_event)"
   ]
  },
  {
   "cell_type": "code",
   "execution_count": null,
   "metadata": {},
   "outputs": [],
   "source": [
    "new_close_trade_email(new_close_trade_event)"
   ]
  }
 ],
 "metadata": {
  "kernelspec": {
   "display_name": "Python 3.7.11 ('base')",
   "language": "python",
   "name": "python3"
  },
  "language_info": {
   "codemirror_mode": {
    "name": "ipython",
    "version": 3
   },
   "file_extension": ".py",
   "mimetype": "text/x-python",
   "name": "python",
   "nbconvert_exporter": "python",
   "pygments_lexer": "ipython3",
   "version": "3.7.11"
  },
  "orig_nbformat": 4,
  "vscode": {
   "interpreter": {
    "hash": "60051db9b49e7622da472558d5c9910b644d729726c3e885e40a692d81c6b654"
   }
  }
 },
 "nbformat": 4,
 "nbformat_minor": 2
}
