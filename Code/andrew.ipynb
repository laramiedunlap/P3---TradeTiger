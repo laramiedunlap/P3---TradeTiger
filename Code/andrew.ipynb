{
 "cells": [
  {
   "cell_type": "code",
   "execution_count": 1,
   "metadata": {},
   "outputs": [
    {
     "data": {
      "text/plain": [
       "True"
      ]
     },
     "execution_count": 1,
     "metadata": {},
     "output_type": "execute_result"
    }
   ],
   "source": [
    "import pandas as pd\n",
    "import streamlit as st\n",
    "import alpaca_trade_api as aplpaca\n",
    "from alpaca_trade_api.rest import REST, TimeFrame\n",
    "import os\n",
    "import time\n",
    "from dotenv import load_dotenv\n",
    "\n",
    "from web3 import Web3\n",
    "from pathlib import Path\n",
    "\n",
    "import json\n",
    "from io import StringIO\n",
    "\n",
    "load_dotenv()"
   ]
  },
  {
   "cell_type": "code",
   "execution_count": 2,
   "metadata": {},
   "outputs": [],
   "source": [
    "class Grader:\n",
    "    # add event filters to Grader class \n",
    "    def __init__(self, trader_id, log_address):\n",
    "        self.trader_id = trader_id\n",
    "        self.log_address = log_address\n",
    "        \n",
    "    def load_contract(self):\n",
    "        contract_address = self.log_address\n",
    "        with open(Path('logger.json')) as f:\n",
    "            logger_abi = json.load(f)\n",
    "            \n",
    "            self.contract = w3.eth.contract(\n",
    "            address=contract_address,\n",
    "            abi=logger_abi)\n",
    "            \n",
    "            self.new_trade_filter = self.contract.events.newTrade.createFilter(fromBlock=\"latest\")\n",
    "            self.close_trade_filter = self.contract.events.newCloseTrade.createFilter(fromBlock=\"latest\")\n",
    "\n",
    "        return None\n",
    "    \n",
    "    def verify_trade(self):\n",
    "        pass    "
   ]
  },
  {
   "cell_type": "code",
   "execution_count": 3,
   "metadata": {},
   "outputs": [],
   "source": [
    "\n",
    "w3 = Web3(Web3.HTTPProvider(os.getenv(\"WEB3_PROVIDER_URI\")))\n",
    "\n",
    "def load_deployer_contract():\n",
    "    contract_address = os.getenv(\"DEPLOYER_ADDRESS\") \n",
    "    with open(Path('deployer.json')) as f:\n",
    "        deployer_abi = json.load(f)\n",
    "\n",
    "    deployer_contract = w3.eth.contract(\n",
    "        address=contract_address,\n",
    "        abi=deployer_abi\n",
    "        )\n",
    "    trader_dict = {}\n",
    "    return deployer_contract, trader_dict\n",
    "\n",
    "def load_contract_new(log_addr):\n",
    "    contract_address = log_addr\n",
    "    with open(Path('logger.json')) as f:\n",
    "            logger_abi = json.load(f)\n",
    "\n",
    "    logger_contract = w3.eth.contract(\n",
    "        address=contract_address,\n",
    "        abi=logger_abi\n",
    "            )\n",
    "    return logger_contract\n",
    "\n",
    "def handle_new_log(event):\n",
    "    io = StringIO((Web3.toJSON(event)))\n",
    "    return json.load(io)\n",
    "    \n",
    "\n",
    "def handle_new_trade(event):\n",
    "    io = StringIO((Web3.toJSON(event)))\n",
    "    return json.load(io)"
   ]
  },
  {
   "cell_type": "code",
   "execution_count": 4,
   "metadata": {},
   "outputs": [
    {
     "data": {
      "text/plain": [
       "'0x28AcF776965095A3001A20c4ca16eD94f9F1111d'"
      ]
     },
     "execution_count": 4,
     "metadata": {},
     "output_type": "execute_result"
    }
   ],
   "source": [
    "deployer, trader_dict = load_deployer_contract()\n",
    "\n",
    "deployer.address"
   ]
  },
  {
   "cell_type": "code",
   "execution_count": null,
   "metadata": {},
   "outputs": [],
   "source": [
    "# # Run script below. Deploy DEPLOYER contract and hit createLog.\n",
    "# # Copy newLogAddress to to At Address, TraderId to _TRADERID, and DEPLOYER address to _SERVER to deploy LOGGER contract.\n",
    "\n",
    "# # Create a filter to find new log contracts\n",
    "# new_log_filter = deployer.events.logCreated.createFilter(fromBlock=\"latest\")\n",
    "\n",
    "# # Listen\n",
    "# print(\"Starting while loop...\")\n",
    "# while True:\n",
    "#     # 1) Listen for new traders creating trading logs\n",
    "#     new_log_event = handle_new_log(new_log_filter.get_new_entries())\n",
    "#     if new_log_event:\n",
    "#         print(\"--------------------------\")\n",
    "#         print((new_log_event[0]['args']))\n",
    "#         print(\"--------------------------\")\n",
    "        \n",
    "#         # add the information to a Grader object stored at that trader's ID variable\n",
    "#         new_log = new_log_event[0]['args']\n",
    "#         trader_dict[new_log['TraderId']]=Grader(new_log['TraderId'], new_log['newLogAddress'])\n",
    "#         trader_dict[new_log['TraderId']].load_contract()\n",
    "            \n",
    "    \n",
    "#     # loop through each trader and look for new trades at their log's contract address\n",
    "#     for key in trader_dict.keys():\n",
    "#         new_trade_event = handle_new_trade(trader_dict[key].new_trade_filter.get_new_entries())\n",
    "#         if new_trade_event:\n",
    "#             print(\"--------------------------\")\n",
    "#             print((new_trade_event))\n",
    "#             print(\"--------------------------\")\n",
    "#             print(new_trade_event[0]['args'])\n",
    "\n",
    "#             open_trades_df = pd.DataFrame()\n",
    "#             open_trades_df = open_trades_df.append(pd.DataFrame.from_dict([new_trade_event[0]['args']], orient='columns'))\n",
    "#     time.sleep(3)   "
   ]
  },
  {
   "cell_type": "code",
   "execution_count": 48,
   "metadata": {},
   "outputs": [
    {
     "data": {
      "text/html": [
       "<div>\n",
       "<style scoped>\n",
       "    .dataframe tbody tr th:only-of-type {\n",
       "        vertical-align: middle;\n",
       "    }\n",
       "\n",
       "    .dataframe tbody tr th {\n",
       "        vertical-align: top;\n",
       "    }\n",
       "\n",
       "    .dataframe thead th {\n",
       "        text-align: right;\n",
       "    }\n",
       "</style>\n",
       "<table border=\"1\" class=\"dataframe\">\n",
       "  <thead>\n",
       "    <tr style=\"text-align: right;\">\n",
       "      <th></th>\n",
       "      <th>TraderId</th>\n",
       "      <th>inputTraderAddress</th>\n",
       "      <th>tradeNum</th>\n",
       "      <th>inputOpen</th>\n",
       "      <th>inputSymbol</th>\n",
       "      <th>inputSize</th>\n",
       "      <th>inputEntry</th>\n",
       "      <th>inputOptionsData</th>\n",
       "    </tr>\n",
       "  </thead>\n",
       "  <tbody>\n",
       "    <tr>\n",
       "      <th>0</th>\n",
       "      <td>2</td>\n",
       "      <td>0x53605aA1FE094C90bF3d6ad7DaFB047f4970d71B</td>\n",
       "      <td>29</td>\n",
       "      <td>True</td>\n",
       "      <td>TSLA</td>\n",
       "      <td>300</td>\n",
       "      <td>885</td>\n",
       "      <td>800 Put</td>\n",
       "    </tr>\n",
       "  </tbody>\n",
       "</table>\n",
       "</div>"
      ],
      "text/plain": [
       "   TraderId                          inputTraderAddress  tradeNum  inputOpen  \\\n",
       "0         2  0x53605aA1FE094C90bF3d6ad7DaFB047f4970d71B        29       True   \n",
       "\n",
       "  inputSymbol inputSize inputEntry inputOptionsData  \n",
       "0        TSLA       300        885          800 Put  "
      ]
     },
     "execution_count": 48,
     "metadata": {},
     "output_type": "execute_result"
    }
   ],
   "source": [
    "open_trades_df"
   ]
  },
  {
   "cell_type": "code",
   "execution_count": 5,
   "metadata": {},
   "outputs": [
    {
     "name": "stdout",
     "output_type": "stream",
     "text": [
      "Starting while loop...\n",
      "--------------------------\n",
      "{'TraderId': 3, 'newLogAddress': '0xe6C63560cD0940F34E6fC300eBba7C415e540EB2'}\n",
      "--------------------------\n",
      "--------------------------\n",
      "{'TraderId': 4, 'newLogAddress': '0x4F67466D23AAf2bfc6c6CAff98B39F6081BBed71'}\n",
      "--------------------------\n"
     ]
    },
    {
     "ename": "KeyboardInterrupt",
     "evalue": "",
     "output_type": "error",
     "traceback": [
      "\u001b[1;31m---------------------------------------------------------------------------\u001b[0m",
      "\u001b[1;31mKeyboardInterrupt\u001b[0m                         Traceback (most recent call last)",
      "\u001b[1;32m~\\AppData\\Local\\Temp/ipykernel_33676/3144820338.py\u001b[0m in \u001b[0;36m<module>\u001b[1;34m\u001b[0m\n\u001b[0;32m     34\u001b[0m             \u001b[0mprint\u001b[0m\u001b[1;33m(\u001b[0m\u001b[1;34m\"--------------------------\"\u001b[0m\u001b[1;33m)\u001b[0m\u001b[1;33m\u001b[0m\u001b[1;33m\u001b[0m\u001b[0m\n\u001b[0;32m     35\u001b[0m \u001b[1;33m\u001b[0m\u001b[0m\n\u001b[1;32m---> 36\u001b[1;33m     \u001b[0mtime\u001b[0m\u001b[1;33m.\u001b[0m\u001b[0msleep\u001b[0m\u001b[1;33m(\u001b[0m\u001b[1;36m3\u001b[0m\u001b[1;33m)\u001b[0m\u001b[1;33m\u001b[0m\u001b[1;33m\u001b[0m\u001b[0m\n\u001b[0m",
      "\u001b[1;31mKeyboardInterrupt\u001b[0m: "
     ]
    }
   ],
   "source": [
    "# Create a filter to find new log contracts\n",
    "new_log_filter = deployer.events.logCreated.createFilter(fromBlock=\"latest\")\n",
    "\n",
    "# Listen\n",
    "print(\"Starting while loop...\")\n",
    "while True:\n",
    "    # 1) Listen for new traders creating trading logs\n",
    "    new_log_event = handle_new_log(new_log_filter.get_new_entries())\n",
    "    if new_log_event:\n",
    "        print(\"--------------------------\")\n",
    "        print((new_log_event[0]['args']))\n",
    "        print(\"--------------------------\")\n",
    "        \n",
    "        # add the information to a Grader object stored at that trader's ID variable\n",
    "        new_log = new_log_event[0]['args']\n",
    "        trader_dict[new_log['TraderId']]=Grader(new_log['TraderId'], new_log['newLogAddress'])\n",
    "        trader_dict[new_log['TraderId']].load_contract()\n",
    "            \n",
    "    \n",
    "    # loop through each trader and look for new trades at their log's contract address\n",
    "    for key in trader_dict.keys():\n",
    "        new_trade_event = handle_new_trade(trader_dict[key].new_trade_filter.get_new_entries())\n",
    "        new_close_trade_event = handle_new_trade(trader_dict[key].close_trade_filter.get_new_entries())\n",
    "        if new_trade_event:\n",
    "            print(\"--------------------------\")\n",
    "            print((new_trade_event))\n",
    "            print(\"--------------------------\")\n",
    "        #open_trades_df = pd.DataFrame()\n",
    "        #open_trades_df = open_trades_df.append(pd.DataFrame.from_dict([new_trade_event[0]['args']], orient='columns'))\n",
    "        if new_close_trade_event:\n",
    "            new_close_trade_event[0][\"TraderId\"] = key \n",
    "            print(\"--------------------------\")\n",
    "            print((new_close_trade_event))\n",
    "            print(\"--------------------------\")  \n",
    "                \n",
    "    time.sleep(3)"
   ]
  },
  {
   "cell_type": "code",
   "execution_count": null,
   "metadata": {},
   "outputs": [],
   "source": []
  }
 ],
 "metadata": {
  "kernelspec": {
   "display_name": "Python 3.9.7 ('base')",
   "language": "python",
   "name": "python3"
  },
  "language_info": {
   "codemirror_mode": {
    "name": "ipython",
    "version": 3
   },
   "file_extension": ".py",
   "mimetype": "text/x-python",
   "name": "python",
   "nbconvert_exporter": "python",
   "pygments_lexer": "ipython3",
   "version": "3.9.7"
  },
  "orig_nbformat": 4,
  "vscode": {
   "interpreter": {
    "hash": "f688966fe16c5b1d1f8096f0874425497eb397fd30a583fa64973664e1f67766"
   }
  }
 },
 "nbformat": 4,
 "nbformat_minor": 2
}
