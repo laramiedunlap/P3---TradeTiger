{
 "cells": [
  {
   "cell_type": "markdown",
   "metadata": {},
   "source": [
    "### Sending trade information to subscribers"
   ]
  },
  {
   "cell_type": "code",
   "execution_count": 1,
   "metadata": {},
   "outputs": [],
   "source": [
    "import smtplib, ssl\n",
    "import os\n",
    "from dotenv import load_dotenv\n",
    "import pandas as pd\n",
    "from sending_email import *\n",
    "\n",
    "load_dotenv()"
   ]
  },
  {
   "cell_type": "code",
   "execution_count": 3,
   "metadata": {},
   "outputs": [],
   "source": [
    "# Subscriber's email and subscribed TraderId. \n",
    "\n",
    "sub_df = pd.read_csv(\"sub.csv\")"
   ]
  },
  {
   "cell_type": "code",
   "execution_count": 2,
   "metadata": {},
   "outputs": [],
   "source": [
    "# Get from the runing results of _Server_App.py\n",
    "\n",
    "new_trade_event=[{'args': {'TraderId': 1,\n",
    "   'inputTraderAddress': '0x902A693035257b8f1e999E4a2414c450F5cB9E03',\n",
    "   'tradeNum': 0,\n",
    "   'inputOpen': True,\n",
    "   'inputSymbol': 'MSFT',\n",
    "   'inputSize': 100,\n",
    "   'inputFractional_shares': 0,\n",
    "   'inputEntryPriceEntryTime': '270, 8/1/2022,20:32:18',\n",
    "   'inputExitPriceExitTime': 0,\n",
    "   'inputExpirationTimeStamp': 0,\n",
    "   'inputStrike': 0,\n",
    "   'inputIsCall': True},\n",
    "  'event': 'newTrade',\n",
    "  'logIndex': 0,\n",
    "  'transactionIndex': 0,\n",
    "  'transactionHash': '0x81c3a64878b1715ec220e47912b20a19bb9be569b1fd5e84afdd08c5d447abd3',\n",
    "  'address': '0xa51183B1aeBf945b99B9A669fBbF0A0a617d6008',\n",
    "  'blockHash': '0xf37c55755000731c3fedd4338bd5408660fb0299963d922fcf8028ba57e2eec4',\n",
    "  'blockNumber': 49}]\n",
    "\n",
    "  new_close_trade_event=[{'args': {'TraderId': 1,\n",
    "   'inputTraderAddress': '0x902A693035257b8f1e999E4a2414c450F5cB9E03',\n",
    "   'tradeNum': 0,\n",
    "   'inputOpen': True,\n",
    "   'inputSymbol': 'MSFT',\n",
    "   'inputSize': 100,\n",
    "   'inputFractional_shares': 0,\n",
    "   'inputEntryPriceEntryTime': '270, 8/1/2022,20:32:18',\n",
    "   'inputExitPriceExitTime': 0,\n",
    "   'inputExpirationTimeStamp': 0,\n",
    "   'inputStrike': 0,\n",
    "   'inputIsCall': True},\n",
    "  'event': 'newTrade',\n",
    "  'logIndex': 0,\n",
    "  'transactionIndex': 0,\n",
    "  'transactionHash': '0x81c3a64878b1715ec220e47912b20a19bb9be569b1fd5e84afdd08c5d447abd3',\n",
    "  'address': '0xa51183B1aeBf945b99B9A669fBbF0A0a617d6008',\n",
    "  'blockHash': '0xf37c55755000731c3fedd4338bd5408660fb0299963d922fcf8028ba57e2eec4',\n",
    "  'blockNumber': 49}]"
   ]
  },
  {
   "cell_type": "code",
   "execution_count": 6,
   "metadata": {},
   "outputs": [],
   "source": [
    "def email_out(message):\n",
    "    port = 465  # For SSL\n",
    "    smtp_server = \"smtp.gmail.com\"\n",
    "    sender_email = \"fivetradetiger@gmail.com\"\n",
    "    password = os.getenv(\"EMAIL_PASSWORD\")\n",
    "    MailingList = sub_df[sub_df[\"TraderId\"]== new_trade_event[0]['args']['TraderId']][\"subscriber_email\"]\n",
    "    context = ssl.create_default_context()\n",
    "    with smtplib.SMTP_SSL(\"smtp.gmail.com\", port, context=context) as server:\n",
    "        server.login(sender_email, password)\n",
    "        server.sendmail(sender_email,MailingList, message)#  "
   ]
  },
  {
   "cell_type": "code",
   "execution_count": 7,
   "metadata": {},
   "outputs": [],
   "source": [
    "\n",
    "def new_trade_email(new_trade_event):\n",
    "    message = f\"\"\"Subject: Your new open trade\n",
    "\n",
    "                Your subscribed trader, {new_trade_event[0]['args']['TraderId']}, made the following trade:\n",
    "                Open {new_trade_event[0]['args']['inputSize']} share(s) of {new_trade_event[0]['args']['inputSymbol']} at price ${new_trade_event[0]['args']['inputEntryPriceEntryTime']}, stike is {new_trade_event[0]['args']['inputStrike']}, call is\n",
    "                {new_trade_event[0]['args']['inputIsCall']}.\n",
    "                \n",
    "                \"\"\"\n",
    "    email_out(message)\n",
    "\n",
    "\n",
    "                "
   ]
  },
  {
   "cell_type": "code",
   "execution_count": 4,
   "metadata": {},
   "outputs": [],
   "source": [
    "new_trade_email(new_trade_event)"
   ]
  },
  {
   "cell_type": "code",
   "execution_count": 45,
   "metadata": {},
   "outputs": [],
   "source": [
    "def new_close_trade_email(new_close_trade_event):\n",
    "    message = f\"\"\"Subject: Your next trade\n",
    "\n",
    "                Your subscribed trader, {new_close_trade_event[0]['args']['TraderId']}, made the following trade:\n",
    "                Close {new_close_trade_event[0]['args']['inputSize']} share(s) of {new_close_trade_event[0]['args']['inputSymbol']} at price ${new_close_trade_event[0]['args']['inputExitPriceExitTime']}, stike is {new_close_trade_event[0]['args']['inputStrike']}, call is\n",
    "                {new_close_trade_event[0]['args']['inputIsCall']}.\n",
    "                \n",
    "                \"\"\"\n",
    "    email_out(message)\n",
    "\n",
    "    "
   ]
  },
  {
   "cell_type": "code",
   "execution_count": 3,
   "metadata": {},
   "outputs": [],
   "source": [
    "new_close_trade_email(new_close_trade_event)"
   ]
  },
  {
   "cell_type": "code",
   "execution_count": null,
   "metadata": {},
   "outputs": [],
   "source": [
    "()"
   ]
  }
 ],
 "metadata": {
  "kernelspec": {
   "display_name": "Python 3.9.7 ('base')",
   "language": "python",
   "name": "python3"
  },
  "language_info": {
   "codemirror_mode": {
    "name": "ipython",
    "version": 3
   },
   "file_extension": ".py",
   "mimetype": "text/x-python",
   "name": "python",
   "nbconvert_exporter": "python",
   "pygments_lexer": "ipython3",
   "version": "3.9.7"
  },
  "orig_nbformat": 4,
  "vscode": {
   "interpreter": {
    "hash": "5b020d37e2d2792244d38dc749b48635155a26318d10fe99dbb63be9f4ff243c"
   }
  }
 },
 "nbformat": 4,
 "nbformat_minor": 2
}
